{
 "cells": [
  {
   "cell_type": "code",
   "execution_count": null,
   "id": "c095d3d3",
   "metadata": {},
   "outputs": [],
   "source": [
    "import os\n",
    "import openai\n",
    "\n",
    "from dotenv import load_dotenv, find_dotenv\n",
    "_ = load_dotenv(find_dotenv()) # read local .env file\n",
    "openai.api_key = os.environ['OPENAI_API_KEY']"
   ]
  },
  {
   "cell_type": "code",
   "execution_count": null,
   "id": "a05db86f",
   "metadata": {},
   "outputs": [],
   "source": [
    "from typing import List\n",
    "from pydantic import BaseModel, Field"
   ]
  },
  {
   "cell_type": "code",
   "execution_count": null,
   "id": "c35be471",
   "metadata": {},
   "outputs": [],
   "source": [
    "class User:\n",
    "    def __init__(self, name: str, age: int, email: str):\n",
    "        self.name = name\n",
    "        self.age = age\n",
    "        self.email = email"
   ]
  },
  {
   "cell_type": "code",
   "execution_count": null,
   "id": "c61870fe",
   "metadata": {},
   "outputs": [],
   "source": [
    "foo = User(\"Joe\", 32, \"ychag@example.com\")"
   ]
  },
  {
   "cell_type": "code",
   "execution_count": null,
   "id": "9ada2112",
   "metadata": {},
   "outputs": [],
   "source": [
    "foo.name"
   ]
  },
  {
   "cell_type": "code",
   "execution_count": null,
   "id": "6da83834",
   "metadata": {},
   "outputs": [],
   "source": [
    "foo = User(\"Joe\", \"bar\", \"ychag@example.com\")"
   ]
  },
  {
   "cell_type": "code",
   "execution_count": null,
   "id": "864b55cc",
   "metadata": {},
   "outputs": [],
   "source": [
    "foo.age"
   ]
  },
  {
   "cell_type": "code",
   "execution_count": null,
   "id": "ab22fe65",
   "metadata": {},
   "outputs": [],
   "source": [
    "class PUser(BaseModel):\n",
    "        name: str\n",
    "        age: int\n",
    "        email: str"
   ]
  },
  {
   "cell_type": "code",
   "execution_count": null,
   "id": "c39b2c37",
   "metadata": {},
   "outputs": [],
   "source": [
    "foo_p = PUser(name=\"Joe\", age=32, email=\"ychag@example.com\")"
   ]
  },
  {
   "cell_type": "code",
   "execution_count": null,
   "id": "463505e0",
   "metadata": {},
   "outputs": [],
   "source": [
    "foo_p.name"
   ]
  },
  {
   "cell_type": "code",
   "execution_count": null,
   "id": "3f62b6d5",
   "metadata": {},
   "outputs": [],
   "source": [
    "foo_p = PUser(name=\"Joe\", age=1, email=\"ychag@example.com\")"
   ]
  },
  {
   "cell_type": "code",
   "execution_count": null,
   "id": "0332a6d2",
   "metadata": {},
   "outputs": [],
   "source": [
    "class Class(BaseModel):\n",
    "    students: List[PUser]"
   ]
  },
  {
   "cell_type": "code",
   "execution_count": null,
   "id": "fb03b29f",
   "metadata": {},
   "outputs": [],
   "source": [
    "obj = Class(\n",
    "    students=[PUser(name=\"Joe\", age=32, email=\"ychag@example.com\")]\n",
    ")"
   ]
  },
  {
   "cell_type": "code",
   "execution_count": null,
   "id": "0bda44e8",
   "metadata": {},
   "outputs": [],
   "source": [
    "obj"
   ]
  },
  {
   "cell_type": "code",
   "execution_count": null,
   "id": "f4a823b2",
   "metadata": {},
   "outputs": [],
   "source": [
    "# Pydantic to OpenAI function definition"
   ]
  },
  {
   "cell_type": "code",
   "execution_count": null,
   "id": "752dd809",
   "metadata": {},
   "outputs": [],
   "source": [
    "class WeatherSearch(BaseModel):\n",
    "    \"\"\"Call this with an airport code to get the weather at the airport\"\"\"\n",
    "    airport_code : str = Field(description=\"The airport code to get weather for\")"
   ]
  },
  {
   "cell_type": "code",
   "execution_count": null,
   "id": "85e9d37e",
   "metadata": {},
   "outputs": [],
   "source": [
    "from langchain.utils.openai_functions import convert_pydantic_to_openai_function"
   ]
  },
  {
   "cell_type": "code",
   "execution_count": null,
   "id": "da671fee",
   "metadata": {},
   "outputs": [],
   "source": [
    "weather_function = convert_pydantic_to_openai_function(WeatherSearch)"
   ]
  },
  {
   "cell_type": "code",
   "execution_count": null,
   "id": "41a0cb0e",
   "metadata": {},
   "outputs": [],
   "source": [
    "weather_function"
   ]
  },
  {
   "cell_type": "code",
   "execution_count": null,
   "id": "24f9c8e5",
   "metadata": {},
   "outputs": [],
   "source": [
    "from langchain.chat_models import ChatOpenAI"
   ]
  },
  {
   "cell_type": "code",
   "execution_count": null,
   "id": "e5307962",
   "metadata": {},
   "outputs": [],
   "source": [
    "model = ChatOpenAI()"
   ]
  },
  {
   "cell_type": "code",
   "execution_count": null,
   "id": "ce6daa0f",
   "metadata": {},
   "outputs": [],
   "source": [
    "model.invoke(\"what is the weather in SF today?\", functions=[weather_function])"
   ]
  },
  {
   "cell_type": "code",
   "execution_count": null,
   "id": "08db9287",
   "metadata": {},
   "outputs": [],
   "source": [
    "model_with_function = model.bind(functions=[weather_function])"
   ]
  },
  {
   "cell_type": "code",
   "execution_count": null,
   "id": "c237921d",
   "metadata": {},
   "outputs": [],
   "source": [
    "model_with_function.invoke(\"what is the weather in SF today?\")"
   ]
  },
  {
   "cell_type": "code",
   "execution_count": null,
   "id": "05b06774",
   "metadata": {},
   "outputs": [],
   "source": [
    "model_with_forced_function = model.bind(functions=[weather_function], function_call={\"name\": \"WeatherSearch\"})"
   ]
  },
  {
   "cell_type": "code",
   "execution_count": null,
   "id": "5615b62c",
   "metadata": {},
   "outputs": [],
   "source": [
    "model_with_forced_function.invoke(\"what is the weather in SF today?\")"
   ]
  },
  {
   "cell_type": "code",
   "execution_count": null,
   "id": "33463b10",
   "metadata": {},
   "outputs": [],
   "source": [
    "model_with_function.invoke(\"hi\")"
   ]
  },
  {
   "cell_type": "code",
   "execution_count": null,
   "id": "fabcccbf",
   "metadata": {},
   "outputs": [],
   "source": [
    "model_with_forced_function.invoke(\"hi\")"
   ]
  },
  {
   "cell_type": "code",
   "execution_count": null,
   "id": "a88900b0",
   "metadata": {},
   "outputs": [],
   "source": [
    "# Using in a chain"
   ]
  },
  {
   "cell_type": "code",
   "execution_count": null,
   "id": "e06851e6",
   "metadata": {},
   "outputs": [],
   "source": [
    "from langchain.prompts import ChatPromptTemplate"
   ]
  },
  {
   "cell_type": "code",
   "execution_count": null,
   "id": "bb2c5284",
   "metadata": {},
   "outputs": [],
   "source": [
    "prompt = ChatPromptTemplate.from_messages([\n",
    "    (\"system\", \"You are a helpful assistant\"),\n",
    "    (\"user\", \"{input}\")\n",
    "])"
   ]
  },
  {
   "cell_type": "code",
   "execution_count": null,
   "id": "d569e199",
   "metadata": {},
   "outputs": [],
   "source": [
    "chain = prompt | model_with_function"
   ]
  },
  {
   "cell_type": "code",
   "execution_count": null,
   "id": "cb68e586",
   "metadata": {},
   "outputs": [],
   "source": [
    "chain.invoke({\"input\": \"what is the weather in SF?\"})"
   ]
  },
  {
   "cell_type": "code",
   "execution_count": null,
   "id": "5bec388f",
   "metadata": {},
   "outputs": [],
   "source": [
    "# Using multiple Functions"
   ]
  },
  {
   "cell_type": "code",
   "execution_count": null,
   "id": "5e6258c7",
   "metadata": {},
   "outputs": [],
   "source": [
    "class ArtistSearch(BaseModel):\n",
    "    \"\"\"Call this to get the names of songs by a particular artist\"\"\"\n",
    "    artist_name: str = Field(description=\"name of artist to look up\")\n",
    "    n: int = Field(description=\"number of results\")"
   ]
  },
  {
   "cell_type": "code",
   "execution_count": null,
   "id": "0214cf9c",
   "metadata": {},
   "outputs": [],
   "source": [
    "functions = [\n",
    "    convert_pydantic_to_openai_function(WeatherSearch),\n",
    "    convert_pydantic_to_openai_function(ArtistSearch),\n",
    "]"
   ]
  },
  {
   "cell_type": "code",
   "execution_count": null,
   "id": "f94ffec5",
   "metadata": {},
   "outputs": [],
   "source": [
    "model_with_functions = model.bind(functions=functions)"
   ]
  },
  {
   "cell_type": "code",
   "execution_count": null,
   "id": "01e659f5",
   "metadata": {},
   "outputs": [],
   "source": [
    "model_with_functions.invoke(\"what is the weather in SF today?\")"
   ]
  },
  {
   "cell_type": "code",
   "execution_count": null,
   "id": "326402a8",
   "metadata": {},
   "outputs": [],
   "source": [
    "model_with_functions.invoke(\"what are three songs by Whitney Huston?\")"
   ]
  },
  {
   "cell_type": "code",
   "execution_count": null,
   "id": "a49b5c71",
   "metadata": {},
   "outputs": [],
   "source": [
    "model_with_functions.invoke(\"hi\")"
   ]
  },
  {
   "cell_type": "code",
   "execution_count": null,
   "id": "6f74bde3",
   "metadata": {},
   "outputs": [],
   "source": []
  }
 ],
 "metadata": {
  "kernelspec": {
   "display_name": "Python 3 (ipykernel)",
   "language": "python",
   "name": "python3"
  },
  "language_info": {
   "codemirror_mode": {
    "name": "ipython",
    "version": 3
   },
   "file_extension": ".py",
   "mimetype": "text/x-python",
   "name": "python",
   "nbconvert_exporter": "python",
   "pygments_lexer": "ipython3",
   "version": "3.9.16"
  }
 },
 "nbformat": 4,
 "nbformat_minor": 5
}
