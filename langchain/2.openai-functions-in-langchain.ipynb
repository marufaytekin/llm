{
 "cells": [
  {
   "cell_type": "code",
   "execution_count": null,
   "id": "700f46f6",
   "metadata": {},
   "outputs": [],
   "source": [
    "import os\n",
    "import openai\n",
    "\n",
    "from dotenv import load_dotenv, find_dotenv\n",
    "_ = load_dotenv(find_dotenv()) # read local .env file\n",
    "openai.api_key = os.environ['OPENAI_API_KEY']"
   ]
  },
  {
   "cell_type": "code",
   "execution_count": null,
   "id": "3b590376",
   "metadata": {},
   "outputs": [],
   "source": [
    "from typing import List\n",
    "from pydantic import BaseModel, Field"
   ]
  },
  {
   "cell_type": "code",
   "execution_count": null,
   "id": "b62c45f5",
   "metadata": {},
   "outputs": [],
   "source": [
    "class User:\n",
    "    def __init__(self, name: str, age: int, email: str):\n",
    "        self.name = name\n",
    "        self.age = age\n",
    "        self.email = email"
   ]
  },
  {
   "cell_type": "code",
   "execution_count": null,
   "id": "b937e445",
   "metadata": {},
   "outputs": [],
   "source": [
    "foo = User(\"Joe\", 32, \"ychag@example.com\")"
   ]
  },
  {
   "cell_type": "code",
   "execution_count": null,
   "id": "38023906",
   "metadata": {},
   "outputs": [],
   "source": [
    "foo.name"
   ]
  },
  {
   "cell_type": "code",
   "execution_count": null,
   "id": "4608d001",
   "metadata": {},
   "outputs": [],
   "source": [
    "foo = User(\"Joe\", \"bar\", \"ychag@example.com\")"
   ]
  },
  {
   "cell_type": "code",
   "execution_count": null,
   "id": "e1f1720c",
   "metadata": {},
   "outputs": [],
   "source": [
    "foo.age"
   ]
  },
  {
   "cell_type": "code",
   "execution_count": null,
   "id": "41976f0c",
   "metadata": {},
   "outputs": [],
   "source": [
    "class PUser(BaseModel):\n",
    "        name: str\n",
    "        age: int\n",
    "        email: str"
   ]
  },
  {
   "cell_type": "code",
   "execution_count": null,
   "id": "0340aacc",
   "metadata": {},
   "outputs": [],
   "source": [
    "foo_p = PUser(name=\"Joe\", age=32, email=\"ychag@example.com\")"
   ]
  },
  {
   "cell_type": "code",
   "execution_count": null,
   "id": "c795b78e",
   "metadata": {},
   "outputs": [],
   "source": [
    "foo_p.name"
   ]
  },
  {
   "cell_type": "code",
   "execution_count": null,
   "id": "5e0f0a1d",
   "metadata": {},
   "outputs": [],
   "source": [
    "foo_p = PUser(name=\"Joe\", age=1, email=\"ychag@example.com\")"
   ]
  },
  {
   "cell_type": "code",
   "execution_count": null,
   "id": "1da9c78c",
   "metadata": {},
   "outputs": [],
   "source": [
    "class Class(BaseModel):\n",
    "    students: List[PUser]"
   ]
  },
  {
   "cell_type": "code",
   "execution_count": null,
   "id": "6868ac9e",
   "metadata": {},
   "outputs": [],
   "source": [
    "obj = Class(\n",
    "    students=[PUser(name=\"Joe\", age=32, email=\"ychag@example.com\")]\n",
    ")"
   ]
  },
  {
   "cell_type": "code",
   "execution_count": null,
   "id": "38ef381d",
   "metadata": {},
   "outputs": [],
   "source": [
    "obj"
   ]
  },
  {
   "cell_type": "code",
   "execution_count": null,
   "id": "2980f63e",
   "metadata": {},
   "outputs": [],
   "source": [
    "# Pydantic to OpenAI function definition"
   ]
  },
  {
   "cell_type": "code",
   "execution_count": null,
   "id": "8e5fb14d",
   "metadata": {},
   "outputs": [],
   "source": [
    "class WeatherSearch(BaseModel):\n",
    "    \"\"\"Call this with an airport code to get the weather at the airport\"\"\"\n",
    "    airport_code : str = Field(description=\"The airport code to get weather for\")"
   ]
  },
  {
   "cell_type": "code",
   "execution_count": null,
   "id": "3eb7aefa",
   "metadata": {},
   "outputs": [],
   "source": [
    "from langchain.utils.openai_functions import convert_pydantic_to_openai_function"
   ]
  },
  {
   "cell_type": "code",
   "execution_count": null,
   "id": "6f879c04",
   "metadata": {},
   "outputs": [],
   "source": [
    "weather_function = convert_pydantic_to_openai_function(WeatherSearch)"
   ]
  },
  {
   "cell_type": "code",
   "execution_count": null,
   "id": "98663020",
   "metadata": {},
   "outputs": [],
   "source": [
    "weather_function"
   ]
  },
  {
   "cell_type": "code",
   "execution_count": null,
   "id": "f9b8cd28",
   "metadata": {},
   "outputs": [],
   "source": [
    "from langchain.chat_models import ChatOpenAI"
   ]
  },
  {
   "cell_type": "code",
   "execution_count": null,
   "id": "4bd3e647",
   "metadata": {},
   "outputs": [],
   "source": [
    "model = ChatOpenAI()"
   ]
  },
  {
   "cell_type": "code",
   "execution_count": null,
   "id": "24fa4a14",
   "metadata": {},
   "outputs": [],
   "source": [
    "model.invoke(\"what is the weather in SF today?\", functions=[weather_function])"
   ]
  },
  {
   "cell_type": "code",
   "execution_count": null,
   "id": "b6366fcc",
   "metadata": {},
   "outputs": [],
   "source": [
    "model_with_function = model.bind(functions=[weather_function])"
   ]
  },
  {
   "cell_type": "code",
   "execution_count": null,
   "id": "b3cd15f7",
   "metadata": {},
   "outputs": [],
   "source": [
    "model_with_function.invoke(\"what is the weather in SF today?\")"
   ]
  },
  {
   "cell_type": "code",
   "execution_count": null,
   "id": "8c21e028",
   "metadata": {},
   "outputs": [],
   "source": [
    "model_with_forced_function = model.bind(functions=[weather_function], function_call={\"name\": \"WeatherSearch\"})"
   ]
  },
  {
   "cell_type": "code",
   "execution_count": null,
   "id": "a65a17a2",
   "metadata": {},
   "outputs": [],
   "source": [
    "model_with_forced_function.invoke(\"what is the weather in SF today?\")"
   ]
  },
  {
   "cell_type": "code",
   "execution_count": null,
   "id": "a0985de7",
   "metadata": {},
   "outputs": [],
   "source": [
    "model_with_function.invoke(\"hi\")"
   ]
  },
  {
   "cell_type": "code",
   "execution_count": null,
   "id": "92578f00",
   "metadata": {},
   "outputs": [],
   "source": [
    "model_with_forced_function.invoke(\"hi\")"
   ]
  },
  {
   "cell_type": "code",
   "execution_count": null,
   "id": "bc0b0902",
   "metadata": {},
   "outputs": [],
   "source": [
    "# Using in a chain"
   ]
  },
  {
   "cell_type": "code",
   "execution_count": null,
   "id": "71366786",
   "metadata": {},
   "outputs": [],
   "source": [
    "from langchain.prompts import ChatPromptTemplate"
   ]
  },
  {
   "cell_type": "code",
   "execution_count": null,
   "id": "1d1e05d6",
   "metadata": {},
   "outputs": [],
   "source": [
    "prompt = ChatPromptTemplate.from_messages([\n",
    "    (\"system\", \"You are a helpful assistant\"),\n",
    "    (\"user\", \"{input}\")\n",
    "])"
   ]
  },
  {
   "cell_type": "code",
   "execution_count": null,
   "id": "9a92f2c1",
   "metadata": {},
   "outputs": [],
   "source": [
    "chain = prompt | model_with_function"
   ]
  },
  {
   "cell_type": "code",
   "execution_count": null,
   "id": "2747f2ef",
   "metadata": {},
   "outputs": [],
   "source": [
    "chain.invoke({\"input\": \"what is the weather in SF?\"})"
   ]
  },
  {
   "cell_type": "code",
   "execution_count": null,
   "id": "bd01828f",
   "metadata": {},
   "outputs": [],
   "source": []
  }
 ],
 "metadata": {
  "kernelspec": {
   "display_name": "Python 3 (ipykernel)",
   "language": "python",
   "name": "python3"
  },
  "language_info": {
   "codemirror_mode": {
    "name": "ipython",
    "version": 3
   },
   "file_extension": ".py",
   "mimetype": "text/x-python",
   "name": "python",
   "nbconvert_exporter": "python",
   "pygments_lexer": "ipython3",
   "version": "3.9.16"
  }
 },
 "nbformat": 4,
 "nbformat_minor": 5
}
